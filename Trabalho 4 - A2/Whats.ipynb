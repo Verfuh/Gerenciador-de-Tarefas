{
 "cells": [
  {
   "cell_type": "code",
   "execution_count": 1,
   "metadata": {},
   "outputs": [],
   "source": [
    "import pandas as pd\n",
    "import re\n",
    "import matplotlib.pyplot as plt"
   ]
  },
  {
   "cell_type": "code",
   "execution_count": 2,
   "metadata": {},
   "outputs": [],
   "source": [
    "with open(\"Conversa do WhatsApp com New school.txt\", 'r', encoding='utf-8')as file:\n",
    "    linhas = file.readlines()"
   ]
  },
  {
   "cell_type": "code",
   "execution_count": 3,
   "metadata": {},
   "outputs": [],
   "source": [
    "dados = []\n",
    "for linha in linhas:\n",
    "    match = re.match(r'(\\d{2}/\\d{2}/\\d{4} \\d{2}:\\d{2}) - (.+?): (.+)', linha)\n",
    "    if match:\n",
    "        data_hora = match.group(1)\n",
    "        remetente = match.group(2)\n",
    "        mensagem = match.group(3)\n",
    "        dados.append({'data_hora': data_hora, 'remetente': remetente, 'mensagem': mensagem})"
   ]
  },
  {
   "cell_type": "code",
   "execution_count": null,
   "metadata": {},
   "outputs": [],
   "source": [
    "df = pd.DataFrame(dados)\n",
    "df.head"
   ]
  },
  {
   "cell_type": "code",
   "execution_count": null,
   "metadata": {},
   "outputs": [],
   "source": [
    "#1. Resumo das conversas:\n",
    "resumo = df['remetente'].value_counts().reset_index()\n",
    "resumo.columns = ['remetente', 'totalMsg']\n",
    "resumo = resumo.sort_values(by='totalMsg', ascending=False)\n",
    "\n",
    "print(resumo)"
   ]
  },
  {
   "cell_type": "code",
   "execution_count": null,
   "metadata": {},
   "outputs": [],
   "source": [
    "#2. Histórico do remetente:\n",
    "todosRementes = df['remetente'].unique()\n",
    "print(\"\\nRemetentes disponíveis:\")\n",
    "for i, remetente in enumerate(todosRementes, start=1):\n",
    "    print(f\"{i}. {remetente}\")\n",
    "\n",
    "escolha = int(input(\"Digite o número correspondente ao remetente que deseja filtrar: \")) - 1\n",
    "\n",
    "if 0 <= escolha < len(todosRementes):\n",
    "    remetenteEspecifico = todosRementes[escolha]\n",
    "\n",
    "    msgFiltrada = df[df['remetente'].str.strip() == remetenteEspecifico.strip()]\n",
    "\n",
    "    print(f\"\\nMensagens de {remetenteEspecifico}:\")\n",
    "    print(msgFiltrada[['data_hora', 'mensagem']])\n",
    "\n",
    "else:\n",
    "    print(\"Escolha inválida. Tente novamente.\")"
   ]
  },
  {
   "cell_type": "code",
   "execution_count": null,
   "metadata": {},
   "outputs": [],
   "source": [
    "#3. Gráfico do histórico do remetente:\n",
    "df['data_hora'] = pd.to_datetime(df['data_hora'], format='%d/%m/%Y %H:%M')\n",
    "df['data'] = df['data_hora'].dt.date\n",
    "\n",
    "contagemMsg = df.groupby(['data', 'remetente']).size().reset_index(name='totalMsg')\n",
    "\n",
    "plt.figure(figsize=(12, 6))\n",
    "for remetente in contagemMsg['remetente'].unique():\n",
    "    dadosRemetente = contagemMsg[contagemMsg['remetente'] == remetente]\n",
    "    plt.bar(dadosRemetente['data'], dadosRemetente['totalMsg'], label=remetente)\n",
    "\n",
    "plt.title('Quantidade de Conversas por Dia por Remetente')\n",
    "plt.xlabel('Data')\n",
    "plt.ylabel('Total de Mensagens')\n",
    "plt.xticks(rotation=45)\n",
    "plt.legend(title='Remetente')\n",
    "plt.tight_layout()\n",
    "plt.show()"
   ]
  },
  {
   "cell_type": "code",
   "execution_count": null,
   "metadata": {},
   "outputs": [],
   "source": [
    "#4. Gráfico de pizza:\n",
    "totalMsg = df['remetente'].value_counts()\n",
    "\n",
    "plt.figure(figsize=(8, 8))\n",
    "plt.pie(totalMsg, labels=totalMsg.index, autopct='%1.1f%%', startangle=90)\n",
    "plt.title('Percentual de Mensagens por Remetente')\n",
    "plt.show()"
   ]
  },
  {
   "cell_type": "code",
   "execution_count": null,
   "metadata": {},
   "outputs": [],
   "source": [
    "#5. Gráfico de linhas:\n",
    "plt.figure(figsize=(12, 6))\n",
    "for remetente in contagemMsg['remetente'].unique():\n",
    "    dadosRemetente = contagemMsg[contagemMsg['remetente'] == remetente]\n",
    "    plt.plot(dadosRemetente['data'], dadosRemetente['totalMsg'], marker='o', label=remetente)\n",
    "\n",
    "plt.title('Quantidade de Mensagens ao Longo do Tempo por Remetente')\n",
    "plt.xlabel('Data')\n",
    "plt.ylabel('Total de Mensagens')\n",
    "plt.xticks(rotation=45)\n",
    "plt.legend(title='Remetente')\n",
    "plt.tight_layout()\n",
    "plt.grid()\n",
    "plt.show()"
   ]
  }
 ],
 "metadata": {
  "kernelspec": {
   "display_name": "Python 3",
   "language": "python",
   "name": "python3"
  },
  "language_info": {
   "codemirror_mode": {
    "name": "ipython",
    "version": 3
   },
   "file_extension": ".py",
   "mimetype": "text/x-python",
   "name": "python",
   "nbconvert_exporter": "python",
   "pygments_lexer": "ipython3",
   "version": "3.13.0"
  }
 },
 "nbformat": 4,
 "nbformat_minor": 2
}
